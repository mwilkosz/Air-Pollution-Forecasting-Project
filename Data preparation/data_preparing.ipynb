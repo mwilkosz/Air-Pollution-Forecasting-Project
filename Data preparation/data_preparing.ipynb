{
 "cells": [
  {
   "cell_type": "code",
   "execution_count": 1,
   "metadata": {
    "id": "ee38DVcZ6Mji"
   },
   "outputs": [],
   "source": [
    "import pandas as pd\n",
    "import numpy as np"
   ]
  },
  {
   "cell_type": "code",
   "execution_count": null,
   "metadata": {
    "colab": {
     "base_uri": "https://localhost:8080/"
    },
    "id": "_qB6fqVC8x9T",
    "outputId": "ca5493b3-7c24-44af-e8b8-6dae821d7127"
   },
   "outputs": [
    {
     "data": {
      "text/plain": [
       "['Rok',\n",
       " 'Miesiąc ',\n",
       " 'Dzień',\n",
       " 'Godzina',\n",
       " 'cisnienie',\n",
       " 'temperatura  powietrza',\n",
       " 'promieniowanie RAD',\n",
       " 'opad atmosferyczny',\n",
       " 'wilgotnosc wzgledna',\n",
       " 'promieniowanie UVB',\n",
       " 'kierunek wiatru',\n",
       " 'prędkosc wiatru',\n",
       " 'CO',\n",
       " 'NO2',\n",
       " 'NOx',\n",
       " 'O3',\n",
       " 'PM2.5',\n",
       " 'PM10',\n",
       " 'SO2',\n",
       " 'C6H6',\n",
       " 'Hg(TGM)']"
      ]
     },
     "execution_count": 32,
     "metadata": {
      "tags": []
     },
     "output_type": "execute_result"
    }
   ],
   "source": [
    "#reading columns info\n",
    "columns_data = pd.read_csv('info.csv')\n",
    "columns = list(columns_data.columns)\n",
    "columns"
   ]
  },
  {
   "cell_type": "code",
   "execution_count": null,
   "metadata": {
    "id": "Sy7sMjfZCJSS"
   },
   "outputs": [],
   "source": [
    "columns_eng = ['Year',\n",
    " 'Month ',\n",
    " 'Day',\n",
    " 'Hour',\n",
    " 'Air pressure',\n",
    " 'Air temperature',\n",
    " 'RAD radiation',\n",
    " 'Precipitation',\n",
    " 'Realtive humidity',\n",
    " 'UVB radiation',\n",
    " 'Wind direction',\n",
    " 'Wind speed',\n",
    " 'CO',\n",
    " 'NO2',\n",
    " 'NOx',\n",
    " 'O3',\n",
    " 'PM2.5',\n",
    " 'PM10',\n",
    " 'SO2',\n",
    " 'C6H6',\n",
    " 'Hg(TGM)']"
   ]
  },
  {
   "cell_type": "code",
   "execution_count": null,
   "metadata": {
    "colab": {
     "base_uri": "https://localhost:8080/"
    },
    "id": "Tpi02eLX6WNj",
    "outputId": "b6773578-3b0c-484c-e3e3-cafbf0578c89"
   },
   "outputs": [
    {
     "name": "stderr",
     "output_type": "stream",
     "text": [
      "/usr/local/lib/python3.6/dist-packages/IPython/core/interactiveshell.py:2718: DtypeWarning: Columns (4,7,9,10,11,13,14,15,16,17,18) have mixed types.Specify dtype option on import or set low_memory=False.\n",
      "  interactivity=interactivity, compiler=compiler, result=result)\n"
     ]
    }
   ],
   "source": [
    "#reading csv \n",
    "#change filename for given meteo station\n",
    "#before loading csv change commas to dots it avoid data leak while loading to pandas\n",
    "filename = 'Wroclaw-Korzeniowskiego_meteo_2005_2017.csv' \n",
    "data = pd.read_csv(filename, names=columns_eng, error_bad_lines=True, header=None)"
   ]
  },
  {
   "cell_type": "code",
   "execution_count": null,
   "metadata": {
    "colab": {
     "base_uri": "https://localhost:8080/"
    },
    "id": "yEbgRTce7wx_",
    "outputId": "a85e34b0-3ff0-4f0c-d5f2-ebb870835c27"
   },
   "outputs": [
    {
     "data": {
      "text/plain": [
       "(113952, 21)"
      ]
     },
     "execution_count": 35,
     "metadata": {
      "tags": []
     },
     "output_type": "execute_result"
    }
   ],
   "source": [
    "#preview of data shape\n",
    "data.shape"
   ]
  },
  {
   "cell_type": "code",
   "execution_count": null,
   "metadata": {
    "colab": {
     "base_uri": "https://localhost:8080/"
    },
    "id": "kjtHgh8uA9-C",
    "outputId": "5c0896fd-96cd-4552-af43-0f10f8087cc3"
   },
   "outputs": [
    {
     "data": {
      "text/plain": [
       "Year                  int64\n",
       "Month                 int64\n",
       "Day                   int64\n",
       "Hour                  int64\n",
       "Air pressure         object\n",
       "Air temperature      object\n",
       "RAD radiation        object\n",
       "Precipitation        object\n",
       "Realtive humidity    object\n",
       "UVB radiation        object\n",
       "Wind direction       object\n",
       "Wind speed           object\n",
       "CO                   object\n",
       "NO2                  object\n",
       "NOx                  object\n",
       "O3                   object\n",
       "PM2.5                object\n",
       "PM10                 object\n",
       "SO2                  object\n",
       "C6H6                 object\n",
       "Hg(TGM)               int64\n",
       "dtype: object"
      ]
     },
     "execution_count": 36,
     "metadata": {
      "tags": []
     },
     "output_type": "execute_result"
    }
   ],
   "source": [
    "#preview of datatypes\n",
    "data.dtypes"
   ]
  },
  {
   "cell_type": "code",
   "execution_count": null,
   "metadata": {
    "id": "HDS7cR5eEbVz"
   },
   "outputs": [],
   "source": [
    "#changing object columns to float by replacing commas for dots\n",
    "object_columns = data[[d for d in data.columns if data.dtypes[d] == 'object']].columns\n",
    "data[object_columns] = (data[object_columns].replace('\\.','', regex=True)\n",
    "                        .replace(',','.', regex=True)\n",
    "                        .astype(float))"
   ]
  },
  {
   "cell_type": "code",
   "execution_count": null,
   "metadata": {
    "id": "-agCvaReJwJL"
   },
   "outputs": [],
   "source": [
    "#replacing values equal to -99999 to NaN\n",
    "data[(data<=-99999)] = np.nan"
   ]
  },
  {
   "cell_type": "code",
   "execution_count": null,
   "metadata": {
    "id": "VGgBLbU3J07E"
   },
   "outputs": [],
   "source": [
    "data.head()"
   ]
  },
  {
   "cell_type": "code",
   "execution_count": null,
   "metadata": {
    "id": "rS7PXNqBNRIR"
   },
   "outputs": [],
   "source": [
    "#exporting file to csv\n",
    "data.to_csv(filename.split('.csv')[0]+'_prepared.csv')"
   ]
  }
 ],
 "metadata": {
  "colab": {
   "collapsed_sections": [],
   "name": "data_preparing.ipynb",
   "provenance": []
  },
  "kernelspec": {
   "display_name": "Python 3",
   "language": "python",
   "name": "python3"
  },
  "language_info": {
   "codemirror_mode": {
    "name": "ipython",
    "version": 3
   },
   "file_extension": ".py",
   "mimetype": "text/x-python",
   "name": "python",
   "nbconvert_exporter": "python",
   "pygments_lexer": "ipython3",
   "version": "3.7.4"
  }
 },
 "nbformat": 4,
 "nbformat_minor": 1
}
