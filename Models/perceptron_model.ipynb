{
  "nbformat": 4,
  "nbformat_minor": 0,
  "metadata": {
    "colab": {
      "name": "perceptron model.ipynb",
      "provenance": [],
      "collapsed_sections": []
    },
    "kernelspec": {
      "name": "python3",
      "display_name": "Python 3"
    }
  },
  "cells": [
    {
      "cell_type": "code",
      "metadata": {
        "id": "rvRM-tBWo3XB"
      },
      "source": [
        "import pandas as pd\n",
        "import numpy as np\n",
        "import matplotlib.pyplot as plt\n",
        "import seaborn as sns\n",
        "from sklearn.preprocessing import MinMaxScaler\n",
        "from sklearn.metrics import mean_squared_error, mean_absolute_error\n",
        "import tensorflow as tf\n",
        "from tensorflow.keras.layers import *\n",
        "from keras.models import Sequential\n",
        "from keras.optimizers import Adam\n",
        "from keras.callbacks import EarlyStopping\n",
        "\n",
        "#ignore warnings\n",
        "import warnings\n",
        "warnings.filterwarnings('ignore')"
      ],
      "execution_count": 22,
      "outputs": []
    },
    {
      "cell_type": "code",
      "metadata": {
        "colab": {
          "base_uri": "https://localhost:8080/"
        },
        "id": "VN6hlzEIo5Wl",
        "outputId": "ae25a611-d6ef-4e8a-b104-1d252e6f9a2c"
      },
      "source": [
        "from google.colab import drive\n",
        "drive.mount('/content/drive')"
      ],
      "execution_count": 23,
      "outputs": [
        {
          "output_type": "stream",
          "text": [
            "Drive already mounted at /content/drive; to attempt to forcibly remount, call drive.mount(\"/content/drive\", force_remount=True).\n"
          ],
          "name": "stdout"
        }
      ]
    },
    {
      "cell_type": "code",
      "metadata": {
        "id": "IQx-90Jfo6o8"
      },
      "source": [
        "import os\n",
        "os.chdir('/content/drive/MyDrive/')"
      ],
      "execution_count": 24,
      "outputs": []
    },
    {
      "cell_type": "markdown",
      "metadata": {
        "id": "PXQ5CD--nVEs"
      },
      "source": [
        "## Data preparing"
      ]
    },
    {
      "cell_type": "code",
      "metadata": {
        "id": "oop8zU-ZPFu5"
      },
      "source": [
        "data = pd.read_csv('final_data.csv')"
      ],
      "execution_count": 25,
      "outputs": []
    },
    {
      "cell_type": "code",
      "metadata": {
        "id": "bISxV724Pap9"
      },
      "source": [
        "data.drop('Unnamed: 0' ,axis=1, inplace=True)"
      ],
      "execution_count": 26,
      "outputs": []
    },
    {
      "cell_type": "code",
      "metadata": {
        "colab": {
          "base_uri": "https://localhost:8080/",
          "height": 221
        },
        "id": "WbAlrmEePiID",
        "outputId": "976d444b-d4e4-47c1-b375-ab0babaf3f14"
      },
      "source": [
        "data.head()"
      ],
      "execution_count": 27,
      "outputs": [
        {
          "output_type": "execute_result",
          "data": {
            "text/html": [
              "<div>\n",
              "<style scoped>\n",
              "    .dataframe tbody tr th:only-of-type {\n",
              "        vertical-align: middle;\n",
              "    }\n",
              "\n",
              "    .dataframe tbody tr th {\n",
              "        vertical-align: top;\n",
              "    }\n",
              "\n",
              "    .dataframe thead th {\n",
              "        text-align: right;\n",
              "    }\n",
              "</style>\n",
              "<table border=\"1\" class=\"dataframe\">\n",
              "  <thead>\n",
              "    <tr style=\"text-align: right;\">\n",
              "      <th></th>\n",
              "      <th>Year</th>\n",
              "      <th>Month</th>\n",
              "      <th>Day</th>\n",
              "      <th>Hour</th>\n",
              "      <th>Air pressure</th>\n",
              "      <th>Air temperature</th>\n",
              "      <th>RAD radiation</th>\n",
              "      <th>Precipitation</th>\n",
              "      <th>Realtive humidity</th>\n",
              "      <th>UVB radiation</th>\n",
              "      <th>CO</th>\n",
              "      <th>NO2</th>\n",
              "      <th>NOx</th>\n",
              "      <th>O3</th>\n",
              "      <th>PM2.5</th>\n",
              "      <th>PM10</th>\n",
              "      <th>SO2</th>\n",
              "      <th>C6H6</th>\n",
              "    </tr>\n",
              "  </thead>\n",
              "  <tbody>\n",
              "    <tr>\n",
              "      <th>0</th>\n",
              "      <td>2015</td>\n",
              "      <td>1</td>\n",
              "      <td>1</td>\n",
              "      <td>0</td>\n",
              "      <td>1012.0</td>\n",
              "      <td>-6.6</td>\n",
              "      <td>0.0</td>\n",
              "      <td>62.8</td>\n",
              "      <td>1.6</td>\n",
              "      <td>278.0</td>\n",
              "      <td>0.575</td>\n",
              "      <td>18.0</td>\n",
              "      <td>20.0</td>\n",
              "      <td>7.0</td>\n",
              "      <td>19.0</td>\n",
              "      <td>NaN</td>\n",
              "      <td>35.778146</td>\n",
              "      <td>5.01000</td>\n",
              "    </tr>\n",
              "    <tr>\n",
              "      <th>1</th>\n",
              "      <td>2015</td>\n",
              "      <td>1</td>\n",
              "      <td>1</td>\n",
              "      <td>1</td>\n",
              "      <td>1011.0</td>\n",
              "      <td>-7.4</td>\n",
              "      <td>0.0</td>\n",
              "      <td>69.6</td>\n",
              "      <td>1.5</td>\n",
              "      <td>279.0</td>\n",
              "      <td>0.581</td>\n",
              "      <td>20.0</td>\n",
              "      <td>25.0</td>\n",
              "      <td>7.0</td>\n",
              "      <td>13.0</td>\n",
              "      <td>50.0</td>\n",
              "      <td>244.272000</td>\n",
              "      <td>5.25388</td>\n",
              "    </tr>\n",
              "    <tr>\n",
              "      <th>2</th>\n",
              "      <td>2015</td>\n",
              "      <td>1</td>\n",
              "      <td>1</td>\n",
              "      <td>2</td>\n",
              "      <td>1011.0</td>\n",
              "      <td>-7.1</td>\n",
              "      <td>0.0</td>\n",
              "      <td>72.3</td>\n",
              "      <td>1.4</td>\n",
              "      <td>286.0</td>\n",
              "      <td>0.678</td>\n",
              "      <td>20.0</td>\n",
              "      <td>25.0</td>\n",
              "      <td>6.0</td>\n",
              "      <td>11.0</td>\n",
              "      <td>34.0</td>\n",
              "      <td>102.633000</td>\n",
              "      <td>4.74133</td>\n",
              "    </tr>\n",
              "    <tr>\n",
              "      <th>3</th>\n",
              "      <td>2015</td>\n",
              "      <td>1</td>\n",
              "      <td>1</td>\n",
              "      <td>3</td>\n",
              "      <td>1012.0</td>\n",
              "      <td>-6.5</td>\n",
              "      <td>0.2</td>\n",
              "      <td>71.0</td>\n",
              "      <td>1.5</td>\n",
              "      <td>292.0</td>\n",
              "      <td>0.686</td>\n",
              "      <td>21.0</td>\n",
              "      <td>24.0</td>\n",
              "      <td>6.0</td>\n",
              "      <td>9.0</td>\n",
              "      <td>29.0</td>\n",
              "      <td>77.725900</td>\n",
              "      <td>4.66580</td>\n",
              "    </tr>\n",
              "    <tr>\n",
              "      <th>4</th>\n",
              "      <td>2015</td>\n",
              "      <td>1</td>\n",
              "      <td>1</td>\n",
              "      <td>4</td>\n",
              "      <td>1012.0</td>\n",
              "      <td>-5.6</td>\n",
              "      <td>0.0</td>\n",
              "      <td>69.2</td>\n",
              "      <td>1.7</td>\n",
              "      <td>299.0</td>\n",
              "      <td>0.653</td>\n",
              "      <td>22.0</td>\n",
              "      <td>25.0</td>\n",
              "      <td>6.0</td>\n",
              "      <td>10.0</td>\n",
              "      <td>21.0</td>\n",
              "      <td>69.562100</td>\n",
              "      <td>4.77038</td>\n",
              "    </tr>\n",
              "  </tbody>\n",
              "</table>\n",
              "</div>"
            ],
            "text/plain": [
              "   Year  Month  Day  Hour  Air pressure  ...   O3  PM2.5  PM10         SO2     C6H6\n",
              "0  2015      1    1     0        1012.0  ...  7.0   19.0   NaN   35.778146  5.01000\n",
              "1  2015      1    1     1        1011.0  ...  7.0   13.0  50.0  244.272000  5.25388\n",
              "2  2015      1    1     2        1011.0  ...  6.0   11.0  34.0  102.633000  4.74133\n",
              "3  2015      1    1     3        1012.0  ...  6.0    9.0  29.0   77.725900  4.66580\n",
              "4  2015      1    1     4        1012.0  ...  6.0   10.0  21.0   69.562100  4.77038\n",
              "\n",
              "[5 rows x 18 columns]"
            ]
          },
          "metadata": {
            "tags": []
          },
          "execution_count": 27
        }
      ]
    },
    {
      "cell_type": "code",
      "metadata": {
        "id": "P3mCs3pNnbGH"
      },
      "source": [
        "def prepare_data(data):\n",
        "  #Preparing dataset for model\n",
        "  data2015 = data[data.Year==2015]\n",
        "  data_2015_by_day = data2015.groupby(['Month','Day']).mean()\n",
        "  data_2015_by_day.reset_index(drop=True, inplace=True)\n",
        "  data_2015_by_day.reset_index(drop=True, inplace=True)\n",
        "  data_2015_by_day = data_2015_by_day['NOx']\n",
        "  data2016 = data[data.Year==2016]\n",
        "  data_2016_by_day = data2016.groupby(['Month','Day']).mean()\n",
        "  data_2016_by_day.reset_index(drop=True, inplace=True)\n",
        "  data_2016_by_day.reset_index(drop=True, inplace=True)\n",
        "  data_2016_by_day = data_2016_by_day['NOx']\n",
        "  data2017 = data[data.Year==2017]\n",
        "  data_2017_by_day = data2017.groupby(['Month','Day']).mean()\n",
        "  data_2017_by_day.reset_index(drop=True, inplace=True)\n",
        "  data_2017_by_day.reset_index(drop=True, inplace=True)\n",
        "  data_2017_by_day = data_2017_by_day['NOx']\n",
        "  combine = [data_2015_by_day,data_2016_by_day,data_2017_by_day]\n",
        "  data = pd.concat(combine)\n",
        "  return data"
      ],
      "execution_count": 28,
      "outputs": []
    },
    {
      "cell_type": "code",
      "metadata": {
        "id": "mowpw63PndA8"
      },
      "source": [
        "data = prepare_data(data)"
      ],
      "execution_count": 29,
      "outputs": []
    },
    {
      "cell_type": "code",
      "metadata": {
        "id": "xrg2MJLpEC4O"
      },
      "source": [
        "data.reset_index(drop=True, inplace=True)"
      ],
      "execution_count": 30,
      "outputs": []
    },
    {
      "cell_type": "code",
      "metadata": {
        "id": "7z1ni2FR9VMH"
      },
      "source": [
        "def windowed_dataset(series, window_size, batch_size, shuffle_buffer):\n",
        "  dataset = tf.data.Dataset.from_tensor_slices(series)\n",
        "  dataset = dataset.window(window_size + 1, shift=1, drop_remainder=True)\n",
        "  dataset = dataset.flat_map(lambda window: window.batch(window_size + 1))\n",
        "  dataset = dataset.shuffle(shuffle_buffer).map(lambda window: (window[:-1], window[-1]))\n",
        "  dataset = dataset.batch(batch_size).prefetch(1)\n",
        "  return dataset"
      ],
      "execution_count": 31,
      "outputs": []
    },
    {
      "cell_type": "markdown",
      "metadata": {
        "id": "txuoK6ed99y7"
      },
      "source": [
        "## Train, test split"
      ]
    },
    {
      "cell_type": "code",
      "metadata": {
        "id": "dw9mc85a-F2_"
      },
      "source": [
        "train, test = data[0:728], data[728:1092]"
      ],
      "execution_count": 32,
      "outputs": []
    },
    {
      "cell_type": "markdown",
      "metadata": {
        "id": "Uo3x8NC5-xOT"
      },
      "source": [
        "## Model build"
      ]
    },
    {
      "cell_type": "code",
      "metadata": {
        "id": "_ce7C7qn-vNY"
      },
      "source": [
        "window_size=7"
      ],
      "execution_count": 33,
      "outputs": []
    },
    {
      "cell_type": "code",
      "metadata": {
        "id": "cE__ng589V1f"
      },
      "source": [
        "windowed_train = windowed_dataset(train, window_size, 10, 1096)"
      ],
      "execution_count": 34,
      "outputs": []
    },
    {
      "cell_type": "code",
      "metadata": {
        "colab": {
          "base_uri": "https://localhost:8080/"
        },
        "id": "JdK7B0Bk9XAO",
        "outputId": "7ad7f75b-19e8-4432-f6cf-4aa8156f5515"
      },
      "source": [
        "model = Sequential()\n",
        "model.add(Dense(1, input_shape = [window_size]))\n",
        "\n",
        "model.compile(loss='mse', optimizer=Adam(learning_rate=0.001))\n",
        "model.fit(windowed_train, epochs=100, verbose=0)"
      ],
      "execution_count": 35,
      "outputs": [
        {
          "output_type": "execute_result",
          "data": {
            "text/plain": [
              "<tensorflow.python.keras.callbacks.History at 0x7f3dbd65a630>"
            ]
          },
          "metadata": {
            "tags": []
          },
          "execution_count": 35
        }
      ]
    },
    {
      "cell_type": "code",
      "metadata": {
        "colab": {
          "base_uri": "https://localhost:8080/"
        },
        "id": "3evsMirz9kcN",
        "outputId": "17266bcf-a5ad-46c9-9aaf-93fb95b20ab2"
      },
      "source": [
        "model.get_weights()"
      ],
      "execution_count": 36,
      "outputs": [
        {
          "output_type": "execute_result",
          "data": {
            "text/plain": [
              "[array([[ 0.11917389],\n",
              "        [ 0.0177602 ],\n",
              "        [ 0.08367626],\n",
              "        [ 0.06898766],\n",
              "        [ 0.06991291],\n",
              "        [-0.04000133],\n",
              "        [ 0.57418555]], dtype=float32), array([1.8775065], dtype=float32)]"
            ]
          },
          "metadata": {
            "tags": []
          },
          "execution_count": 36
        }
      ]
    },
    {
      "cell_type": "markdown",
      "metadata": {
        "id": "LrFq-iby_oty"
      },
      "source": [
        "## Simple forecast"
      ]
    },
    {
      "cell_type": "code",
      "metadata": {
        "colab": {
          "base_uri": "https://localhost:8080/",
          "height": 51
        },
        "id": "ATGlW1CN_ldc",
        "outputId": "8f501a37-484e-4eb3-ef49-7f0c7f1f0adb"
      },
      "source": [
        "forecast = []\n",
        "\n",
        "for time in range(len(data)- window_size):\n",
        "  forecast.append(model.predict(data.values[time:time + window_size][np.newaxis]))\n",
        "\n",
        "forecast = forecast[728-window_size:]\n",
        "results = np.array(forecast)[:,0,0]\n",
        "\n",
        "plt.figure(figsize=(14,7))"
      ],
      "execution_count": 37,
      "outputs": [
        {
          "output_type": "execute_result",
          "data": {
            "text/plain": [
              "<Figure size 1008x504 with 0 Axes>"
            ]
          },
          "metadata": {
            "tags": []
          },
          "execution_count": 37
        },
        {
          "output_type": "display_data",
          "data": {
            "text/plain": [
              "<Figure size 1008x504 with 0 Axes>"
            ]
          },
          "metadata": {
            "tags": []
          }
        }
      ]
    },
    {
      "cell_type": "code",
      "metadata": {
        "colab": {
          "base_uri": "https://localhost:8080/",
          "height": 428
        },
        "id": "SNRdpvieAdrQ",
        "outputId": "30c5e9c8-4564-4293-b32c-cb34bc4f59a1"
      },
      "source": [
        "plt.figure(figsize=(14,7))\n",
        "\n",
        "timestamp = np.arange(1, len(data[728:])+1)\n",
        "ax = sns.lineplot(timestamp , data[728:], label = 'True value')\n",
        "ax1 = sns.lineplot(timestamp, results, label = 'Forecasts')\n",
        "\n",
        "plt.show()"
      ],
      "execution_count": 38,
      "outputs": [
        {
          "output_type": "display_data",
          "data": {
            "image/png": "[encoded data removed]",
            "text/plain": [
              "<Figure size 1008x504 with 1 Axes>"
            ]
          },
          "metadata": {
            "tags": [],
            "needs_background": "light"
          }
        }
      ]
    },
    {
      "cell_type": "code",
      "metadata": {
        "colab": {
          "base_uri": "https://localhost:8080/"
        },
        "id": "-_PdXWCBAhKg",
        "outputId": "a5c0c750-b7fb-4f0f-d2c0-7a9d4e3138c2"
      },
      "source": [
        "print('Annual RMSE: {}'.format(np.sqrt(mean_squared_error(data[728:], results))))\n",
        "print('Annual MAE: {}'.format(mean_absolute_error(data[728:], results)))"
      ],
      "execution_count": 39,
      "outputs": [
        {
          "output_type": "stream",
          "text": [
            "Annual RMSE: 21.486511423706972\n",
            "Annual MAE: 12.812560540154498\n"
          ],
          "name": "stdout"
        }
      ]
    }
  ]
}