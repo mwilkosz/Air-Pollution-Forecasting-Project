{
  "nbformat": 4,
  "nbformat_minor": 0,
  "metadata": {
    "colab": {
      "name": "multilayer_perceptron.ipynb",
      "provenance": [],
      "collapsed_sections": []
    },
    "kernelspec": {
      "name": "python3",
      "display_name": "Python 3"
    }
  },
  "cells": [
    {
      "cell_type": "code",
      "metadata": {
        "id": "rvRM-tBWo3XB"
      },
      "source": [
        "import pandas as pd\n",
        "import numpy as np\n",
        "import matplotlib.pyplot as plt\n",
        "import seaborn as sns\n",
        "from sklearn.metrics import mean_squared_error, mean_absolute_error\n",
        "import tensorflow as tf\n",
        "from tensorflow.keras.layers import *\n",
        "from keras.models import Sequential\n",
        "from keras.optimizers import Adam\n",
        "\n",
        "import warnings\n",
        "warnings.filterwarnings('ignore')"
      ],
      "execution_count": 12,
      "outputs": []
    },
    {
      "cell_type": "code",
      "metadata": {
        "colab": {
          "base_uri": "https://localhost:8080/"
        },
        "id": "VN6hlzEIo5Wl",
        "outputId": "ae0a2d5b-75f0-4d22-a964-a3ee895e63e3"
      },
      "source": [
        "from google.colab import drive\n",
        "drive.mount('/content/drive')"
      ],
      "execution_count": 13,
      "outputs": [
        {
          "output_type": "stream",
          "text": [
            "Drive already mounted at /content/drive; to attempt to forcibly remount, call drive.mount(\"/content/drive\", force_remount=True).\n"
          ],
          "name": "stdout"
        }
      ]
    },
    {
      "cell_type": "code",
      "metadata": {
        "id": "IQx-90Jfo6o8"
      },
      "source": [
        "import os\n",
        "os.chdir('/content/drive/MyDrive/')"
      ],
      "execution_count": 14,
      "outputs": []
    },
    {
      "cell_type": "markdown",
      "metadata": {
        "id": "PXQ5CD--nVEs"
      },
      "source": [
        "## Data preparing"
      ]
    },
    {
      "cell_type": "code",
      "metadata": {
        "id": "oop8zU-ZPFu5"
      },
      "source": [
        "data = pd.read_csv('final_data.csv')"
      ],
      "execution_count": 15,
      "outputs": []
    },
    {
      "cell_type": "code",
      "metadata": {
        "id": "bISxV724Pap9"
      },
      "source": [
        "data.drop('Unnamed: 0' ,axis=1, inplace=True)"
      ],
      "execution_count": 16,
      "outputs": []
    },
    {
      "cell_type": "code",
      "metadata": {
        "id": "WbAlrmEePiID",
        "colab": {
          "base_uri": "https://localhost:8080/",
          "height": 221
        },
        "outputId": "3a5a7b84-1687-466e-8d35-7866ee8be9dd"
      },
      "source": [
        "data.head()"
      ],
      "execution_count": 17,
      "outputs": [
        {
          "output_type": "execute_result",
          "data": {
            "text/html": [
              "<div>\n",
              "<style scoped>\n",
              "    .dataframe tbody tr th:only-of-type {\n",
              "        vertical-align: middle;\n",
              "    }\n",
              "\n",
              "    .dataframe tbody tr th {\n",
              "        vertical-align: top;\n",
              "    }\n",
              "\n",
              "    .dataframe thead th {\n",
              "        text-align: right;\n",
              "    }\n",
              "</style>\n",
              "<table border=\"1\" class=\"dataframe\">\n",
              "  <thead>\n",
              "    <tr style=\"text-align: right;\">\n",
              "      <th></th>\n",
              "      <th>Year</th>\n",
              "      <th>Month</th>\n",
              "      <th>Day</th>\n",
              "      <th>Hour</th>\n",
              "      <th>Air pressure</th>\n",
              "      <th>Air temperature</th>\n",
              "      <th>RAD radiation</th>\n",
              "      <th>Precipitation</th>\n",
              "      <th>Realtive humidity</th>\n",
              "      <th>UVB radiation</th>\n",
              "      <th>CO</th>\n",
              "      <th>NO2</th>\n",
              "      <th>NOx</th>\n",
              "      <th>O3</th>\n",
              "      <th>PM2.5</th>\n",
              "      <th>PM10</th>\n",
              "      <th>SO2</th>\n",
              "      <th>C6H6</th>\n",
              "    </tr>\n",
              "  </thead>\n",
              "  <tbody>\n",
              "    <tr>\n",
              "      <th>0</th>\n",
              "      <td>2015</td>\n",
              "      <td>1</td>\n",
              "      <td>1</td>\n",
              "      <td>0</td>\n",
              "      <td>1012.0</td>\n",
              "      <td>-6.6</td>\n",
              "      <td>0.0</td>\n",
              "      <td>62.8</td>\n",
              "      <td>1.6</td>\n",
              "      <td>278.0</td>\n",
              "      <td>0.575</td>\n",
              "      <td>18.0</td>\n",
              "      <td>20.0</td>\n",
              "      <td>7.0</td>\n",
              "      <td>19.0</td>\n",
              "      <td>NaN</td>\n",
              "      <td>35.778146</td>\n",
              "      <td>5.01000</td>\n",
              "    </tr>\n",
              "    <tr>\n",
              "      <th>1</th>\n",
              "      <td>2015</td>\n",
              "      <td>1</td>\n",
              "      <td>1</td>\n",
              "      <td>1</td>\n",
              "      <td>1011.0</td>\n",
              "      <td>-7.4</td>\n",
              "      <td>0.0</td>\n",
              "      <td>69.6</td>\n",
              "      <td>1.5</td>\n",
              "      <td>279.0</td>\n",
              "      <td>0.581</td>\n",
              "      <td>20.0</td>\n",
              "      <td>25.0</td>\n",
              "      <td>7.0</td>\n",
              "      <td>13.0</td>\n",
              "      <td>50.0</td>\n",
              "      <td>244.272000</td>\n",
              "      <td>5.25388</td>\n",
              "    </tr>\n",
              "    <tr>\n",
              "      <th>2</th>\n",
              "      <td>2015</td>\n",
              "      <td>1</td>\n",
              "      <td>1</td>\n",
              "      <td>2</td>\n",
              "      <td>1011.0</td>\n",
              "      <td>-7.1</td>\n",
              "      <td>0.0</td>\n",
              "      <td>72.3</td>\n",
              "      <td>1.4</td>\n",
              "      <td>286.0</td>\n",
              "      <td>0.678</td>\n",
              "      <td>20.0</td>\n",
              "      <td>25.0</td>\n",
              "      <td>6.0</td>\n",
              "      <td>11.0</td>\n",
              "      <td>34.0</td>\n",
              "      <td>102.633000</td>\n",
              "      <td>4.74133</td>\n",
              "    </tr>\n",
              "    <tr>\n",
              "      <th>3</th>\n",
              "      <td>2015</td>\n",
              "      <td>1</td>\n",
              "      <td>1</td>\n",
              "      <td>3</td>\n",
              "      <td>1012.0</td>\n",
              "      <td>-6.5</td>\n",
              "      <td>0.2</td>\n",
              "      <td>71.0</td>\n",
              "      <td>1.5</td>\n",
              "      <td>292.0</td>\n",
              "      <td>0.686</td>\n",
              "      <td>21.0</td>\n",
              "      <td>24.0</td>\n",
              "      <td>6.0</td>\n",
              "      <td>9.0</td>\n",
              "      <td>29.0</td>\n",
              "      <td>77.725900</td>\n",
              "      <td>4.66580</td>\n",
              "    </tr>\n",
              "    <tr>\n",
              "      <th>4</th>\n",
              "      <td>2015</td>\n",
              "      <td>1</td>\n",
              "      <td>1</td>\n",
              "      <td>4</td>\n",
              "      <td>1012.0</td>\n",
              "      <td>-5.6</td>\n",
              "      <td>0.0</td>\n",
              "      <td>69.2</td>\n",
              "      <td>1.7</td>\n",
              "      <td>299.0</td>\n",
              "      <td>0.653</td>\n",
              "      <td>22.0</td>\n",
              "      <td>25.0</td>\n",
              "      <td>6.0</td>\n",
              "      <td>10.0</td>\n",
              "      <td>21.0</td>\n",
              "      <td>69.562100</td>\n",
              "      <td>4.77038</td>\n",
              "    </tr>\n",
              "  </tbody>\n",
              "</table>\n",
              "</div>"
            ],
            "text/plain": [
              "   Year  Month  Day  Hour  Air pressure  ...   O3  PM2.5  PM10         SO2     C6H6\n",
              "0  2015      1    1     0        1012.0  ...  7.0   19.0   NaN   35.778146  5.01000\n",
              "1  2015      1    1     1        1011.0  ...  7.0   13.0  50.0  244.272000  5.25388\n",
              "2  2015      1    1     2        1011.0  ...  6.0   11.0  34.0  102.633000  4.74133\n",
              "3  2015      1    1     3        1012.0  ...  6.0    9.0  29.0   77.725900  4.66580\n",
              "4  2015      1    1     4        1012.0  ...  6.0   10.0  21.0   69.562100  4.77038\n",
              "\n",
              "[5 rows x 18 columns]"
            ]
          },
          "metadata": {
            "tags": []
          },
          "execution_count": 17
        }
      ]
    },
    {
      "cell_type": "code",
      "metadata": {
        "id": "P3mCs3pNnbGH"
      },
      "source": [
        "def prepare_data(data):\n",
        "  #Preparing dataset for model\n",
        "  data2015 = data[data.Year==2015]\n",
        "  data_2015_by_day = data2015.groupby(['Month','Day']).mean()\n",
        "  data_2015_by_day.reset_index(drop=True, inplace=True)\n",
        "  data_2015_by_day.reset_index(drop=True, inplace=True)\n",
        "  data_2015_by_day = data_2015_by_day['NOx']\n",
        "  data2016 = data[data.Year==2016]\n",
        "  data_2016_by_day = data2016.groupby(['Month','Day']).mean()\n",
        "  data_2016_by_day.reset_index(drop=True, inplace=True)\n",
        "  data_2016_by_day.reset_index(drop=True, inplace=True)\n",
        "  data_2016_by_day = data_2016_by_day['NOx']\n",
        "  data2017 = data[data.Year==2017]\n",
        "  data_2017_by_day = data2017.groupby(['Month','Day']).mean()\n",
        "  data_2017_by_day.reset_index(drop=True, inplace=True)\n",
        "  data_2017_by_day.reset_index(drop=True, inplace=True)\n",
        "  data_2017_by_day = data_2017_by_day['NOx']\n",
        "  combine = [data_2015_by_day,data_2016_by_day,data_2017_by_day]\n",
        "  data = pd.concat(combine)\n",
        "  return data"
      ],
      "execution_count": 18,
      "outputs": []
    },
    {
      "cell_type": "code",
      "metadata": {
        "id": "mowpw63PndA8"
      },
      "source": [
        "data = prepare_data(data)"
      ],
      "execution_count": 19,
      "outputs": []
    },
    {
      "cell_type": "code",
      "metadata": {
        "id": "xrg2MJLpEC4O"
      },
      "source": [
        "data.reset_index(drop=True, inplace=True)"
      ],
      "execution_count": 20,
      "outputs": []
    },
    {
      "cell_type": "code",
      "metadata": {
        "id": "7z1ni2FR9VMH"
      },
      "source": [
        "def windowed_dataset(series, window_size, batch_size, shuffle_buffer):\n",
        "  dataset = tf.data.Dataset.from_tensor_slices(series)\n",
        "  dataset = dataset.window(window_size + 1, shift=1, drop_remainder=True)\n",
        "  dataset = dataset.flat_map(lambda window: window.batch(window_size + 1))\n",
        "  dataset = dataset.map(lambda window: (window[:-1], window[-1]))\n",
        "  dataset = dataset.batch(batch_size).prefetch(1)\n",
        "  return dataset"
      ],
      "execution_count": 21,
      "outputs": []
    },
    {
      "cell_type": "markdown",
      "metadata": {
        "id": "txuoK6ed99y7"
      },
      "source": [
        "## Train, test split"
      ]
    },
    {
      "cell_type": "code",
      "metadata": {
        "id": "dw9mc85a-F2_"
      },
      "source": [
        "train, test = data[0:728], data[728:1092]"
      ],
      "execution_count": 22,
      "outputs": []
    },
    {
      "cell_type": "markdown",
      "metadata": {
        "id": "Uo3x8NC5-xOT"
      },
      "source": [
        "## Model build"
      ]
    },
    {
      "cell_type": "code",
      "metadata": {
        "id": "_ce7C7qn-vNY"
      },
      "source": [
        "window_size=7"
      ],
      "execution_count": 23,
      "outputs": []
    },
    {
      "cell_type": "code",
      "metadata": {
        "id": "cE__ng589V1f"
      },
      "source": [
        "windowed_train = windowed_dataset(train, window_size, 10, 1096)"
      ],
      "execution_count": 24,
      "outputs": []
    },
    {
      "cell_type": "markdown",
      "metadata": {
        "id": "ef7DsioEVpWw"
      },
      "source": [
        "## Adjusting learning rate"
      ]
    },
    {
      "cell_type": "code",
      "metadata": {
        "id": "gT5Ug8JIU0Gy"
      },
      "source": [
        "model = Sequential()\n",
        "model.add(Dense(64, input_shape = [window_size], activation='relu'))\n",
        "model.add(Dense(32, activation='relu'))\n",
        "model.add(Dense(1))\n",
        "\n",
        "lr_schedule = tf.keras.callbacks.LearningRateScheduler(\n",
        "    lambda epoch: 1e-8 * 10**(epoch / 20))\n",
        "model.compile(loss=\"mse\", optimizer=Adam(learning_rate=8e-6))\n",
        "history = model.fit(windowed_train, epochs=100, callbacks=[lr_schedule], verbose=0)"
      ],
      "execution_count": 25,
      "outputs": []
    },
    {
      "cell_type": "code",
      "metadata": {
        "colab": {
          "base_uri": "https://localhost:8080/",
          "height": 286
        },
        "id": "_2RhIpADWmdM",
        "outputId": "c7d59823-5b74-4b73-f3f2-fe85e4a1a8dc"
      },
      "source": [
        "lrs = 1e-8 * (10 ** (np.arange(100) / 20))\n",
        "plt.semilogx(lrs, history.history[\"loss\"])\n",
        "# plt.axis([1e-8, 1e-3, 0, 300])"
      ],
      "execution_count": 26,
      "outputs": [
        {
          "output_type": "execute_result",
          "data": {
            "text/plain": [
              "[<matplotlib.lines.Line2D at 0x7fe0dbeb12e8>]"
            ]
          },
          "metadata": {
            "tags": []
          },
          "execution_count": 26
        },
        {
          "output_type": "display_data",
          "data": {
            "image/png": "[encoded data removed]",
            "text/plain": [
              "<Figure size 432x288 with 1 Axes>"
            ]
          },
          "metadata": {
            "tags": [],
            "needs_background": "light"
          }
        }
      ]
    },
    {
      "cell_type": "markdown",
      "metadata": {
        "id": "O89Wj6nYVegj"
      },
      "source": [
        "## Simple forecast"
      ]
    },
    {
      "cell_type": "code",
      "metadata": {
        "id": "mOMx1j9sVlc8",
        "colab": {
          "base_uri": "https://localhost:8080/"
        },
        "outputId": "1ba9686d-1698-417e-fd25-9235bc2b3d64"
      },
      "source": [
        "model = Sequential()\n",
        "model.add(Dense(64, input_shape = [window_size], activation='relu'))\n",
        "model.add(Dense(32, activation='relu'))\n",
        "model.add(Dense(1))\n",
        "\n",
        "model.compile(loss='mse', optimizer=Adam(learning_rate=1e-3))\n",
        "model.fit(windowed_train, epochs=200, verbose=0)"
      ],
      "execution_count": 27,
      "outputs": [
        {
          "output_type": "execute_result",
          "data": {
            "text/plain": [
              "<tensorflow.python.keras.callbacks.History at 0x7fe0dbdc0b70>"
            ]
          },
          "metadata": {
            "tags": []
          },
          "execution_count": 27
        }
      ]
    },
    {
      "cell_type": "code",
      "metadata": {
        "colab": {
          "base_uri": "https://localhost:8080/",
          "height": 51
        },
        "id": "ZnAtEPJvVegk",
        "outputId": "7b1a9c33-4957-4e14-adf0-b140f3c293ae"
      },
      "source": [
        "forecast = []\n",
        "\n",
        "for time in range(len(data)- window_size):\n",
        "  forecast.append(model.predict(data.values[time:time + window_size][np.newaxis]))\n",
        "\n",
        "forecast = forecast[728-window_size:]\n",
        "results = np.array(forecast)[:,0,0]\n",
        "\n",
        "plt.figure(figsize=(14,7))"
      ],
      "execution_count": 28,
      "outputs": [
        {
          "output_type": "execute_result",
          "data": {
            "text/plain": [
              "<Figure size 1008x504 with 0 Axes>"
            ]
          },
          "metadata": {
            "tags": []
          },
          "execution_count": 28
        },
        {
          "output_type": "display_data",
          "data": {
            "text/plain": [
              "<Figure size 1008x504 with 0 Axes>"
            ]
          },
          "metadata": {
            "tags": []
          }
        }
      ]
    },
    {
      "cell_type": "code",
      "metadata": {
        "colab": {
          "base_uri": "https://localhost:8080/",
          "height": 428
        },
        "id": "zN1E_0tpVegl",
        "outputId": "8f084bd4-cc55-4099-e7ea-59ade749b677"
      },
      "source": [
        "plt.figure(figsize=(14,7))\n",
        "\n",
        "timestamp = np.arange(1, len(data[728:])+1)\n",
        "ax = sns.lineplot(timestamp , data[728:], label = 'True value')\n",
        "ax1 = sns.lineplot(timestamp, results, label = 'Forecasts')\n",
        "\n",
        "plt.show()"
      ],
      "execution_count": 29,
      "outputs": [
        {
          "output_type": "display_data",
          "data": {
            "image/png": "[encoded data removed]",
            "text/plain": [
              "<Figure size 1008x504 with 1 Axes>"
            ]
          },
          "metadata": {
            "tags": [],
            "needs_background": "light"
          }
        }
      ]
    },
    {
      "cell_type": "code",
      "metadata": {
        "colab": {
          "base_uri": "https://localhost:8080/"
        },
        "id": "7e8VbItZVegl",
        "outputId": "4bbad334-0cde-4ceb-eb79-895dc4560bf8"
      },
      "source": [
        "print('Annual RMSE: {}'.format(np.sqrt(mean_squared_error(data[728:], results))))\n",
        "print('Annual MAE: {}'.format(mean_absolute_error(data[728:], results)))"
      ],
      "execution_count": 30,
      "outputs": [
        {
          "output_type": "stream",
          "text": [
            "Annual RMSE: 26.007263472393653\n",
            "Annual MAE: 15.410787860900934\n"
          ],
          "name": "stdout"
        }
      ]
    }
  ]
}